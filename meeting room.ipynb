{
 "cells": [
  {
   "cell_type": "code",
   "execution_count": 23,
   "metadata": {},
   "outputs": [
    {
     "name": "stdout",
     "output_type": "stream",
     "text": [
      "Not 1 Hour\n",
      "{'3-3-2024': [1300]}\n",
      "Meeting room booked\n"
     ]
    }
   ],
   "source": [
    "from datetime import datetime\n",
    "    \n",
    "\n",
    "class Meeting:\n",
    "    d = {}    # dictionary to store all the meetings in\n",
    "    def __init__(self, date , start_time , end_time):\n",
    "        self.date = date\n",
    "        self.start_time = start_time\n",
    "        self.end_time = end_time\n",
    "\n",
    "    def meetingRoom(self, date , start_time , end_time):\n",
    "\n",
    "        self.check_conditions()\n",
    "\n",
    "    def check_conditions(self, date , start_time , end_time):\n",
    "        try:\n",
    "            datetime.strptime(date, \"%d-%m-%Y\")\n",
    "        except Exception as E:\n",
    "            raise E\n",
    "        if start_time > end_time:\n",
    "\n"
   ]
  },
  {
   "cell_type": "code",
   "execution_count": 44,
   "metadata": {},
   "outputs": [
    {
     "name": "stdout",
     "output_type": "stream",
     "text": [
      "{'5-3-2024': [1300, 1400]}\n",
      "Meeting room booked\n",
      "{'5-3-2024': [1300, 1400, 1500, 1650]}\n",
      "Meeting room booked\n",
      "{'5-3-2024': [1300, 1400, 1500, 1650, 1700, 1800]}\n",
      "Meeting room booked\n",
      "1651 1655\n",
      "{'5-3-2024': [1300, 1400, 1500, 1650, 1651, 1655, 1700, 1800]}\n",
      "Meeting room booked\n",
      "Overlapping Meetings\n"
     ]
    }
   ],
   "source": [
    "from datetime import datetime\n",
    "d = {}    \n",
    "def meetingRoomReq(date, sTime, eTime):\n",
    "\n",
    "    if sTime > eTime or sTime >= 2300:                    #Checking if the Start Time is not more than the end time\n",
    "        return\"Invalid Meeting Time\"\n",
    "    try:\n",
    "        datetime.strptime(date, \"%d-%m-%Y\")               #Checking the date format\n",
    "    except Exception as E:\n",
    "        return str(E)\n",
    "    \n",
    "    if date in d:\n",
    "        if len(d[date]) == 2:\n",
    "            if sTime  < d[date][0] and eTime < d[date][0]:       #One 1 meeting reservation exist currently\n",
    "                d[date] = [sTime, eTime] + d[date]\n",
    "            elif sTime > d[date][1]:\n",
    "                d[date].extend([sTime, eTime])\n",
    "            else:\n",
    "                return \"Overlapping Meetings\"\n",
    "        else:\n",
    "            for i in range(0,len(d[date]), 2):\n",
    "                if sTime < d[date][i] and eTime < d[date][i]:         #more than 1 reservation \n",
    "                    print(sTime,eTime)\n",
    "                    d[date].insert(i, eTime)\n",
    "                    d[date].insert(i, sTime)\n",
    "                    break\n",
    "                if sTime < d[date][i] and eTime >= d[date][i]:\n",
    "                    return \"Overlapping Meetings\"\n",
    "            else:\n",
    "                d[date].extend([sTime, eTime])\n",
    "    else:\n",
    "        d[date] = [sTime, eTime]                                    #No meetings on this day yet\n",
    "    print(d)\n",
    "    return \"Meeting room booked\"\n",
    "\n",
    "\n",
    "# while(1):\n",
    "#     date = input(\"Enter date in type dd-mm-yyyy : \")\n",
    "#     sTime = int(input(\"Enter Start time(24hrs format):\"))\n",
    "#     eTime = int(input(\"Enter End Time(24hrs format):\"))\n",
    "#     print(meetingRoomReq(date, sTime, eTime))\n",
    "#     ch = input(\"Continue?y or n:\").lower()\n",
    "#     if ch != 'y':\n",
    "#         break\n",
    "\n",
    "\n",
    "\n",
    "\n",
    "#test cases\n",
    "print(meetingRoomReq(\"5-3-2024\", 1300,1400))\n",
    "print(meetingRoomReq(\"5-3-2024\", 1500, 1650))\n",
    "print(meetingRoomReq(\"5-3-2024\", 1700, 1800))\n",
    "print(meetingRoomReq(\"5-3-2024\", 1651,1655))\n",
    "print(meetingRoomReq(\"5-3-2024\", 1430, 1530))"
   ]
  },
  {
   "cell_type": "code",
   "execution_count": 36,
   "metadata": {},
   "outputs": [
    {
     "name": "stdout",
     "output_type": "stream",
     "text": [
      "{1: [2, 3], 2: [6, 5, 4]}\n"
     ]
    }
   ],
   "source": [
    "l = {1:[2,3], 2:[5,4]}\n",
    "l[2].insert(0, 6)\n",
    "print(l)"
   ]
  },
  {
   "cell_type": "code",
   "execution_count": null,
   "metadata": {},
   "outputs": [],
   "source": []
  }
 ],
 "metadata": {
  "kernelspec": {
   "display_name": "Python 3",
   "language": "python",
   "name": "python3"
  },
  "language_info": {
   "codemirror_mode": {
    "name": "ipython",
    "version": 3
   },
   "file_extension": ".py",
   "mimetype": "text/x-python",
   "name": "python",
   "nbconvert_exporter": "python",
   "pygments_lexer": "ipython3",
   "version": "3.10.8"
  }
 },
 "nbformat": 4,
 "nbformat_minor": 2
}
