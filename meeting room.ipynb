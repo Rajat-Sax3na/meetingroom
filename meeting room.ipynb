{
 "cells": [
  {
   "cell_type": "code",
   "execution_count": 23,
   "metadata": {},
   "outputs": [
    {
     "name": "stdout",
     "output_type": "stream",
     "text": [
      "Not 1 Hour\n",
      "{'3-3-2024': [1300]}\n",
      "Meeting room booked\n"
     ]
    }
   ],
   "source": [
    "from datetime import datetime\n",
    "    \n",
    "\n",
    "class Meeting:\n",
    "    d = {}    # dictionary to store all the meetings in\n",
    "    def __init__(self, date , start_time , end_time):\n",
    "        self.date = date\n",
    "        self.start_time = start_time\n",
    "        self.end_time = end_time\n",
    "\n",
    "    def meetingRoom(self, date , start_time , end_time):\n",
    "\n",
    "        self.check_conditions()\n",
    "\n",
    "    def check_conditions(self, date , start_time , end_time):\n",
    "        try:\n",
    "            datetime.strptime(date, \"%d-%m-%Y\")\n",
    "        except Exception as E:\n",
    "            raise E\n",
    "        if start_time > end_time:\n",
    "\n"
   ]
  },
  {
   "cell_type": "code",
   "execution_count": 27,
   "metadata": {},
   "outputs": [
    {
     "ename": "ValueError",
     "evalue": "invalid literal for int() with base 10: ''",
     "output_type": "error",
     "traceback": [
      "\u001b[1;31m---------------------------------------------------------------------------\u001b[0m",
      "\u001b[1;31mValueError\u001b[0m                                Traceback (most recent call last)",
      "Cell \u001b[1;32mIn [27], line 34\u001b[0m\n\u001b[0;32m     30\u001b[0m     \u001b[38;5;28;01mreturn\u001b[39;00m \u001b[38;5;124m\"\u001b[39m\u001b[38;5;124mMeeting room booked from \u001b[39m\u001b[38;5;124m\"\u001b[39m \u001b[38;5;241m+\u001b[39m s1[:\u001b[38;5;241m2\u001b[39m] \u001b[38;5;241m+\u001b[39m \u001b[38;5;124m\"\u001b[39m\u001b[38;5;124m:\u001b[39m\u001b[38;5;124m\"\u001b[39m\u001b[38;5;241m+\u001b[39m s1[\u001b[38;5;241m2\u001b[39m:] \u001b[38;5;241m+\u001b[39m \u001b[38;5;124m\"\u001b[39m\u001b[38;5;124m to \u001b[39m\u001b[38;5;124m\"\u001b[39m \u001b[38;5;241m+\u001b[39m e1[:\u001b[38;5;241m2\u001b[39m]\u001b[38;5;241m+\u001b[39m \u001b[38;5;124m\"\u001b[39m\u001b[38;5;124m:\u001b[39m\u001b[38;5;124m\"\u001b[39m \u001b[38;5;241m+\u001b[39m e1[\u001b[38;5;241m2\u001b[39m:]\n\u001b[0;32m     33\u001b[0m \u001b[38;5;28;01mwhile\u001b[39;00m(\u001b[38;5;241m1\u001b[39m):\n\u001b[1;32m---> 34\u001b[0m     d1,m1,y1 \u001b[38;5;241m=\u001b[39m [\u001b[38;5;28mint\u001b[39m(x) \u001b[38;5;28;01mfor\u001b[39;00m x \u001b[38;5;129;01min\u001b[39;00m \u001b[38;5;28minput\u001b[39m(\u001b[38;5;124m\"\u001b[39m\u001b[38;5;124mEnter Date\u001b[39m\u001b[38;5;124m\"\u001b[39m)\u001b[38;5;241m.\u001b[39msplit(\u001b[38;5;124m'\u001b[39m\u001b[38;5;124m-\u001b[39m\u001b[38;5;124m'\u001b[39m)]\n\u001b[0;32m     36\u001b[0m     \u001b[38;5;28;01mtry\u001b[39;00m:\n\u001b[0;32m     37\u001b[0m         date \u001b[38;5;241m=\u001b[39m da(y1, m1, d1)                                   \n",
      "Cell \u001b[1;32mIn [27], line 34\u001b[0m, in \u001b[0;36m<listcomp>\u001b[1;34m(.0)\u001b[0m\n\u001b[0;32m     30\u001b[0m     \u001b[38;5;28;01mreturn\u001b[39;00m \u001b[38;5;124m\"\u001b[39m\u001b[38;5;124mMeeting room booked from \u001b[39m\u001b[38;5;124m\"\u001b[39m \u001b[38;5;241m+\u001b[39m s1[:\u001b[38;5;241m2\u001b[39m] \u001b[38;5;241m+\u001b[39m \u001b[38;5;124m\"\u001b[39m\u001b[38;5;124m:\u001b[39m\u001b[38;5;124m\"\u001b[39m\u001b[38;5;241m+\u001b[39m s1[\u001b[38;5;241m2\u001b[39m:] \u001b[38;5;241m+\u001b[39m \u001b[38;5;124m\"\u001b[39m\u001b[38;5;124m to \u001b[39m\u001b[38;5;124m\"\u001b[39m \u001b[38;5;241m+\u001b[39m e1[:\u001b[38;5;241m2\u001b[39m]\u001b[38;5;241m+\u001b[39m \u001b[38;5;124m\"\u001b[39m\u001b[38;5;124m:\u001b[39m\u001b[38;5;124m\"\u001b[39m \u001b[38;5;241m+\u001b[39m e1[\u001b[38;5;241m2\u001b[39m:]\n\u001b[0;32m     33\u001b[0m \u001b[38;5;28;01mwhile\u001b[39;00m(\u001b[38;5;241m1\u001b[39m):\n\u001b[1;32m---> 34\u001b[0m     d1,m1,y1 \u001b[38;5;241m=\u001b[39m [\u001b[38;5;28;43mint\u001b[39;49m\u001b[43m(\u001b[49m\u001b[43mx\u001b[49m\u001b[43m)\u001b[49m \u001b[38;5;28;01mfor\u001b[39;00m x \u001b[38;5;129;01min\u001b[39;00m \u001b[38;5;28minput\u001b[39m(\u001b[38;5;124m\"\u001b[39m\u001b[38;5;124mEnter Date\u001b[39m\u001b[38;5;124m\"\u001b[39m)\u001b[38;5;241m.\u001b[39msplit(\u001b[38;5;124m'\u001b[39m\u001b[38;5;124m-\u001b[39m\u001b[38;5;124m'\u001b[39m)]\n\u001b[0;32m     36\u001b[0m     \u001b[38;5;28;01mtry\u001b[39;00m:\n\u001b[0;32m     37\u001b[0m         date \u001b[38;5;241m=\u001b[39m da(y1, m1, d1)                                   \n",
      "\u001b[1;31mValueError\u001b[0m: invalid literal for int() with base 10: ''"
     ]
    }
   ],
   "source": [
    "from datetime import datetime\n",
    "from datetime import date as da\n",
    "d = {}    \n",
    "def meetingRoomReq(date, sTime, eTime):\n",
    "    \n",
    "    \n",
    "    if date in d:\n",
    "        if len(d[date]) == 2:\n",
    "            if sTime  < d[date][0] and eTime < d[date][0]:       #One 1 meeting reservation exist currently\n",
    "                d[date] = [sTime, eTime] + d[date]\n",
    "            elif sTime > d[date][1]:\n",
    "                d[date].extend([sTime, eTime])\n",
    "            else:\n",
    "                return \"Overlapping Meetings\"\n",
    "        else:\n",
    "            for i in range(0,len(d[date]), 2):\n",
    "                if sTime < d[date][i] and eTime < d[date][i]:         #more than 1 reservation \n",
    "                    print(sTime,eTime)\n",
    "                    d[date].insert(i, eTime)\n",
    "                    d[date].insert(i, sTime)\n",
    "                    break\n",
    "                if sTime < d[date][i] and eTime > d[date][i]:\n",
    "                    return \"Overlapping Meetings\"\n",
    "            else:\n",
    "                d[date].extend([sTime, eTime])\n",
    "    else:\n",
    "        d[date] = [sTime, eTime]                                    #No meetings on this day yet\n",
    "    # print(d)\n",
    "    s1, e1 = str(sTime), str(eTime)\n",
    "    return \"Meeting room booked from \" + s1[:2] + \":\"+ s1[2:] + \" to \" + e1[:2]+ \":\" + e1[2:]\n",
    "\n",
    "\n",
    "while(True):\n",
    "    d1,m1,y1 = [int(x) for x in input(\"Enter Date\").split('-')]\n",
    "    \n",
    "    try:\n",
    "        date = da(y1, m1, d1)                                   \n",
    "    except Exception as E:\n",
    "        print(E)\n",
    "        continue\n",
    "\n",
    "    today = da.today()\n",
    "    # print(today, date)\n",
    "    if date < today:\n",
    "        print(\"Invalid, Date of Past\")                              # If the entered date is less than today's date then it will show invalid date.\n",
    "        continue\n",
    "\n",
    "    sTime = int(input(\"Enter Start time(24hrs format):\"))\n",
    "    eTime = int(input(\"Enter End Time(24hrs format):\"))\n",
    "\n",
    "    if sTime > eTime or sTime >= 2300 or sTime < 0:                    #Checking if the Start Time is not more than the end time\n",
    "        print(\"Invalid Meeting Time\")\n",
    "        continue\n",
    "    \n",
    "    print(meetingRoomReq(date, sTime, eTime))\n",
    "    ch = input(\"Continue?y or n:\").lower()\n",
    "    if ch == 'n':\n",
    "        break\n",
    "\n",
    "\n",
    "\n",
    "\n",
    "#test cases\n",
    "# print(meetingRoomReq(\"5-5-2024\", 1300,1400))\n",
    "# print(meetingRoomReq(\"5-5-2024\", 1500, 1650))\n",
    "# print(meetingRoomReq(\"5-5-2024\", 1700, 1800))\n",
    "# print(meetingRoomReq(\"5-5-2024\", 1651,1655))\n",
    "# print(meetingRoomReq(\"5-5-2024\", 1430, 1530))"
   ]
  },
  {
   "cell_type": "code",
   "execution_count": 36,
   "metadata": {},
   "outputs": [
    {
     "name": "stdout",
     "output_type": "stream",
     "text": [
      "{1: [2, 3], 2: [6, 5, 4]}\n"
     ]
    }
   ],
   "source": [
    "l = {1:[2,3], 2:[5,4]}\n",
    "l[2].insert(0, 6)\n",
    "print(l)"
   ]
  },
  {
   "cell_type": "code",
   "execution_count": null,
   "metadata": {},
   "outputs": [],
   "source": []
  }
 ],
 "metadata": {
  "kernelspec": {
   "display_name": "Python 3",
   "language": "python",
   "name": "python3"
  },
  "language_info": {
   "codemirror_mode": {
    "name": "ipython",
    "version": 3
   },
   "file_extension": ".py",
   "mimetype": "text/x-python",
   "name": "python",
   "nbconvert_exporter": "python",
   "pygments_lexer": "ipython3",
   "version": "3.10.8"
  }
 },
 "nbformat": 4,
 "nbformat_minor": 2
}
